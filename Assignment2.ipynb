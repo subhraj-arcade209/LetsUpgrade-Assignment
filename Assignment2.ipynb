{
 "cells": [
  {
   "cell_type": "code",
   "execution_count": 7,
   "metadata": {},
   "outputs": [
    {
     "name": "stdout",
     "output_type": "stream",
     "text": [
      "The original list is :  [4, 6, 7, [], 10, [], []]\n",
      "List after empty list removal :  [4, 6, 7, 10]\n"
     ]
    }
   ],
   "source": [
    "#Write a Python program to remove empty List from List.\n",
    "\n",
    "ques_list = [4, 6,7, [], 10, [], [], ]  \n",
    "print(\"The original list is : \" , str(ques_list)) \n",
    "res = [ele for ele in ques_list if ele != []]  \n",
    "print (\"List after empty list removal : \" , str(res)) "
   ]
  },
  {
   "cell_type": "code",
   "execution_count": 12,
   "metadata": {},
   "outputs": [
    {
     "name": "stdout",
     "output_type": "stream",
     "text": [
      "Messi is great and Ronaldo also\n"
     ]
    }
   ],
   "source": [
    "#Write a Python program to remove all duplicates words from a given sentence\n",
    "from collections import Counter\n",
    "def remov_duplicates(input):  \n",
    "    input = input.split(\" \") \n",
    "    for i in range(0, len(input)): \n",
    "        input[i] = \"\".join(input[i]) \n",
    "  \n",
    "    \n",
    "    UniqW = Counter(input) \n",
    "    s = \" \".join(UniqW.keys()) \n",
    "    print (s) \n",
    "    # Driver program \n",
    "if __name__ == \"__main__\": \n",
    "    input = 'Messi is great and Ronaldo is also great'\n",
    "    remov_duplicates(input)"
   ]
  },
  {
   "cell_type": "code",
   "execution_count": 22,
   "metadata": {},
   "outputs": [
    {
     "name": "stdout",
     "output_type": "stream",
     "text": [
      "Count of e in Manna is :  2\n"
     ]
    }
   ],
   "source": [
    "#Write a Python program to find all occurrences of a character in the given string\n",
    "test_str = \"Manna\" \n",
    "count = 0\n",
    "  \n",
    "for i in test_str: \n",
    "    if i == 'a': \n",
    "        count = count + 1\n",
    "print (\"Count of e in Manna is : \", str(count)) "
   ]
  },
  {
   "cell_type": "code",
   "execution_count": null,
   "metadata": {},
   "outputs": [],
   "source": []
  }
 ],
 "metadata": {
  "kernelspec": {
   "display_name": "Python 3",
   "language": "python",
   "name": "python3"
  },
  "language_info": {
   "codemirror_mode": {
    "name": "ipython",
    "version": 3
   },
   "file_extension": ".py",
   "mimetype": "text/x-python",
   "name": "python",
   "nbconvert_exporter": "python",
   "pygments_lexer": "ipython3",
   "version": "3.8.3"
  }
 },
 "nbformat": 4,
 "nbformat_minor": 4
}
