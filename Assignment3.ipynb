{
 "cells": [
  {
   "cell_type": "code",
   "execution_count": 11,
   "metadata": {},
   "outputs": [],
   "source": [
    "#Write a Python program to merge two files into a third file.\n",
    "data = data2 = \"\"\n",
    "with open('file1.txt') as fp: \n",
    "    data = fp.read() \n",
    "with open('file2.txt') as fp: \n",
    "    data2 = fp.read() \n",
    "# Merging two files into one another file \n",
    "data += \"\\n\"\n",
    "data += data2 \n",
    "with open ('file3.txt', 'w') as fp: \n",
    "    fp.write(data)"
   ]
  },
  {
   "cell_type": "code",
   "execution_count": 10,
   "metadata": {},
   "outputs": [
    {
     "ename": "SyntaxError",
     "evalue": "unexpected character after line continuation character (<ipython-input-10-9ffa407fb947>, line 13)",
     "output_type": "error",
     "traceback": [
      "\u001b[1;36m  File \u001b[1;32m\"<ipython-input-10-9ffa407fb947>\"\u001b[1;36m, line \u001b[1;32m13\u001b[0m\n\u001b[1;33m    list2.append(\\\"elem\\\")\u001b[0m\n\u001b[1;37m                               ^\u001b[0m\n\u001b[1;31mSyntaxError\u001b[0m\u001b[1;31m:\u001b[0m unexpected character after line continuation character\n"
     ]
    }
   ],
   "source": [
    "#Take two lists as input list1 = [1,2,3,4,5] and list2 = [\"a\", \"b\", \"c\", \"d\", \"e\"] From that make a dictionary ouput {1:\"a\", 2:\"b\", 3:\"c\", 4:\"d\", 5:\"e\"}\n",
    "\n",
    "list1 = [] \n",
    "n1 = int(input(\"Enter number of elements : \")) \n",
    "for i in range(0, n1): \n",
    "    ele = int(input()) \n",
    "    list1.append(ele)     \n",
    "print(list1)\n",
    "list2 = [] \n",
    "  \n",
    "# Printing original keys-value lists \n",
    "print (\"Original key list is : \" , str(list1)) \n",
    "print (\"Original value list is : \" , str(list2)) \n",
    "  \n",
    "# using naive method \n",
    "# to convert lists to dictionary \n",
    "res = {} \n",
    "for key in list2: \n",
    "    for value in list1: \n",
    "        res[key] = value \n",
    "        list1.remove(value) \n",
    "        break  \n",
    "   \n",
    "print (\"Resultant dictionary is : \" ,  str(res)) "
   ]
  },
  {
   "cell_type": "code",
   "execution_count": 6,
   "metadata": {},
   "outputs": [
    {
     "name": "stdin",
     "output_type": "stream",
     "text": [
      "Enter number of elements :  2\n",
      " 4\n",
      " 5\n"
     ]
    },
    {
     "name": "stdout",
     "output_type": "stream",
     "text": [
      "[4, 5]\n"
     ]
    },
    {
     "name": "stdin",
     "output_type": "stream",
     "text": [
      "Enter number of elements :  2\n",
      " 7\n",
      " 8\n"
     ]
    },
    {
     "name": "stdout",
     "output_type": "stream",
     "text": [
      "['elem', 'elem']\n"
     ]
    }
   ],
   "source": [
    "list1 = [] \n",
    "n1 = int(input(\"Enter number of elements : \")) \n",
    "for i in range(0, n1): \n",
    "    ele = int(input()) \n",
    "    list1.append(ele)     \n",
    "print(list1)\n",
    "list2 = [] \n",
    "n2 = int(input(\"Enter number of elements : \")) \n",
    "for i in range(0, n2): \n",
    "    elem = int(input()) \n",
    "    list2.append(\"'elem\")     \n",
    "print(list2)"
   ]
  },
  {
   "cell_type": "markdown",
   "metadata": {},
   "source": [
    "## "
   ]
  }
 ],
 "metadata": {
  "kernelspec": {
   "display_name": "Python 3",
   "language": "python",
   "name": "python3"
  },
  "language_info": {
   "codemirror_mode": {
    "name": "ipython",
    "version": 3
   },
   "file_extension": ".py",
   "mimetype": "text/x-python",
   "name": "python",
   "nbconvert_exporter": "python",
   "pygments_lexer": "ipython3",
   "version": "3.8.3"
  }
 },
 "nbformat": 4,
 "nbformat_minor": 4
}
